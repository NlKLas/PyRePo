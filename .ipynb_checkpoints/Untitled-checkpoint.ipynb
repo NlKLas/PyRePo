{
 "cells": [
  {
   "cell_type": "markdown",
   "metadata": {},
   "source": [
    "This is gonna be a module providing basic evaluation techniques, also as script?\n",
    "\n",
    "Name: DataAnalysis ?"
   ]
  },
  {
   "cell_type": "code",
   "execution_count": null,
   "metadata": {
    "collapsed": true
   },
   "outputs": [],
   "source": [
    "# ToDo\n",
    "#\n",
    "# functions\n",
    "# fits\n",
    "# read data files\n",
    "# create tables\n",
    "# create plots\n",
    "# constants\n",
    "# imports ?\n",
    "# "
   ]
  },
  {
   "cell_type": "code",
   "execution_count": 1,
   "metadata": {
    "collapsed": true
   },
   "outputs": [],
   "source": [
    "import numpy as np"
   ]
  },
  {
   "cell_type": "code",
   "execution_count": 14,
   "metadata": {
    "collapsed": true
   },
   "outputs": [],
   "source": [
    "# theoretical functions\n",
    "\n",
    "def gauss(x,μ,σ):\n",
    "    return (2 * σ**2)**-0.5 * np.exp((x - μ)**2 / (2 * σ**2))\n",
    "\n",
    "def poly(x,*k):\n",
    "    print(k)\n",
    "    return sum ([ k[i] * x**i for i in k ] )\n",
    "\n",
    "def lin(x,m,b):\n",
    "    return m * x + b"
   ]
  },
  {
   "cell_type": "code",
   "execution_count": 16,
   "metadata": {
    "collapsed": false
   },
   "outputs": [],
   "source": [
    "#poly(5,1,1,1,1)"
   ]
  },
  {
   "cell_type": "code",
   "execution_count": 95,
   "metadata": {
    "collapsed": false
   },
   "outputs": [],
   "source": [
    "# creating LaTeX table\n",
    "\n",
    "import sys\n",
    "\n",
    "table_count = 0\n",
    "\n",
    "class Table:\n",
    "    \n",
    "    def __init__(self,data,rownames,columnnames,caption=''):\n",
    "        self.data = data\n",
    "        self.rownames = rownames\n",
    "        self.columnnames = columnnames\n",
    "        self.caption = caption\n",
    "        sys.modules[__name__].table_count += 1\n",
    "        self.__table_number = sys.modules[__name__].table_count\n",
    "    \n",
    "    def create(self,scale=1,colsep='12pt',rowsep='1.2',color='gray!12'):\n",
    "        code = r'''\t\\setlength{\\tabcolsep}{'''+ colsep + r'''}\n",
    "\t\\renewcommand{\\arraystretch}{''' + rowsep + r'''}\n",
    "\t\\begin{table}[ht]\n",
    "\t\t\\rowcolors{2}{''' + color + r'''}{''' + color + r'''}\n",
    "\t\t\\centering\n",
    "\t\t\\scalebox{''' + str(scale) + r'''}{\n",
    "\t\t\\begin{tabular}{>{\\cellcolor[gray]{0.83}}r@{\\hskip 3pt}|*{''' + str(len(self.data[0])) + r'''}{c!{\\color{gray!25}\\vrule width 0.1mm}}}\n",
    "\t\t\t\\rowcolor[gray]{0.83}\n",
    "\t\t\t''' + self.rownames[0]\n",
    "        for j in range(len(self.columnnames)):\n",
    "            code = code + ' & ' + self.columnnames[j]\n",
    "        code = code + r''' \\\\         \n",
    "\t\t\t\\hline\n",
    "\t\t\t'''\n",
    "        for i in range(len(self.data)-1):\n",
    "            code = code + self.rownames[i + 1]\n",
    "            for j in range(len(self.data[0])):\n",
    "                code = code + ' & ' + str(self.data[i][j])\n",
    "            code = code + r''' \\\\             \n",
    "\t\t\t\\noalign{\\color{gray!25}\\hrule height 0.1mm}\n",
    "\t\t\t'''\n",
    "        code = code + self.rownames[len(self.data)]\n",
    "        for j in range(len(self.data[len(self.data)-1])):\n",
    "            code = code + ' & ' + str(self.data[len(self.data)-1][j])\n",
    "        code = code + r''' \\\\         \n",
    "\t\t\\end{tabular}}\n",
    "\t\t\\caption{''' + self.caption + '''}\n",
    "\t\\end{table}'''\n",
    "        self.table = code\n",
    "        \n",
    "    def save(self,filename):\n",
    "        with open('table' + str(self.__table_number) + '_' + filename + '.tex', 'w') as f:\n",
    "            f.write(self.table)\n",
    "            f.close()"
   ]
  },
  {
   "cell_type": "code",
   "execution_count": 96,
   "metadata": {
    "collapsed": false
   },
   "outputs": [],
   "source": [
    "t = Table([[1,2],[3,4]],['test table','v1','v2'],['m1','m2'])\n",
    "t.create()\n",
    "t.save('test')"
   ]
  },
  {
   "cell_type": "code",
   "execution_count": null,
   "metadata": {
    "collapsed": false
   },
   "outputs": [],
   "source": []
  }
 ],
 "metadata": {
  "anaconda-cloud": {},
  "kernelspec": {
   "display_name": "Python [Root]",
   "language": "python",
   "name": "Python [Root]"
  },
  "language_info": {
   "codemirror_mode": {
    "name": "ipython",
    "version": 3
   },
   "file_extension": ".py",
   "mimetype": "text/x-python",
   "name": "python",
   "nbconvert_exporter": "python",
   "pygments_lexer": "ipython3",
   "version": "3.5.2"
  }
 },
 "nbformat": 4,
 "nbformat_minor": 0
}
