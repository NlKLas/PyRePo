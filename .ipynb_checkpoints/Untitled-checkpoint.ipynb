{
 "cells": [
  {
   "cell_type": "markdown",
   "metadata": {},
   "source": [
    "This is gonna be a module providing basic evaluation techniques, also as script?\n",
    "\n",
    "Name: DataAnalysis ?"
   ]
  },
  {
   "cell_type": "code",
   "execution_count": null,
   "metadata": {
    "collapsed": true
   },
   "outputs": [],
   "source": [
    "# ToDo\n",
    "#\n",
    "# functions\n",
    "# fits\n",
    "# read data files\n",
    "# create tables\n",
    "# create plots\n",
    "# round\n",
    "# errors\n",
    "# constants\n",
    "# imports ?\n",
    "# info and print\n",
    "# "
   ]
  },
  {
   "cell_type": "code",
   "execution_count": 2,
   "metadata": {
    "collapsed": true
   },
   "outputs": [],
   "source": [
    "import numpy as np\n",
    "import os\n",
    "# later hopefully replaced by sympy\n",
    "%matplotlib inline\n",
    "import matplotlib.pyplot as plt"
   ]
  },
  {
   "cell_type": "code",
   "execution_count": 14,
   "metadata": {
    "collapsed": true
   },
   "outputs": [],
   "source": [
    "# theoretical functions\n",
    "\n",
    "def gauss(x,μ,σ):\n",
    "    return (2 * σ**2)**-0.5 * np.exp((x - μ)**2 / (2 * σ**2))\n",
    "\n",
    "def poly(x,*k):\n",
    "    print(k)\n",
    "    return sum ([ k[i] * x**i for i in k ] )\n",
    "\n",
    "def lin(x,m,b):\n",
    "    return m * x + b"
   ]
  },
  {
   "cell_type": "code",
   "execution_count": 286,
   "metadata": {
    "collapsed": false
   },
   "outputs": [
    {
     "data": {
      "text/plain": [
       "'d'"
      ]
     },
     "execution_count": 286,
     "metadata": {},
     "output_type": "execute_result"
    }
   ],
   "source": [
    "#poly(5,1,1,1,1)"
   ]
  },
  {
   "cell_type": "code",
   "execution_count": 387,
   "metadata": {
    "collapsed": false
   },
   "outputs": [
    {
     "name": "stdout",
     "output_type": "stream",
     "text": [
      "[-3. -1.  0.  0.  2.  5.] [ True  True False False False  True]\n",
      "[-3. -1.  0.  0.  0.  5.]\n"
     ]
    }
   ],
   "source": [
    "# scientifically display numbers\n",
    "\n",
    "def __convert_unit(unit,sep=r'\\;',size=r'\\small',textrm=True):\n",
    "    unit = unit.split()\n",
    "    bottom = []\n",
    "    top = []\n",
    "    if textrm:\n",
    "        rm1 = r'\\textrm{'\n",
    "        rm2 = '}'\n",
    "    else:\n",
    "        rm1 = rm2 = ''\n",
    "    for u in unit:\n",
    "        if u.startswith('-'):\n",
    "            bottom.append(u.strip('-'))\n",
    "        else:\n",
    "            top.append(u)\n",
    "    if not bottom:\n",
    "        s = ''\n",
    "        for t in top:\n",
    "            if t.startswith('10') and t[2:].strip('+').strip('-').isdigit():\n",
    "                if int(t[2:].strip('+').strip('-')) == 0:\n",
    "                    continue\n",
    "                s = '10^{' + t[2:].replace('+','') + '}' + s\n",
    "                continue\n",
    "            elif t[0].isdigit():\n",
    "                t = t + rm2 + '^{'\n",
    "                while t[0].isdigit():\n",
    "                    t = t[1:] + t[0]\n",
    "                t = rm1 + t + '}'\n",
    "            else:\n",
    "                t = rm1 + t + rm2\n",
    "            s = s + t + sep\n",
    "        s = ('?' + s).strip(sep).strip('?')\n",
    "    else:\n",
    "        s = r'\\frac{'\n",
    "        for t in top:\n",
    "            if t.startswith('10') and t[2:].strip('+').strip('-').isdigit():\n",
    "                if int(t[2:].strip('+').strip('-')) == 0:\n",
    "                    continue\n",
    "                s = '10^{' + t[2:].replace('+','') + '}' + s\n",
    "                continue\n",
    "            elif t[0].isdigit():\n",
    "                t = t + rm2 + '^{'\n",
    "                while t[0].isdigit():\n",
    "                    t = t[1:] + t[0]\n",
    "                t = rm1 + t + '}'\n",
    "            else:\n",
    "                t = rm1 + t + rm2\n",
    "            s = s + t + sep\n",
    "        s = ('?' + s).strip(sep).strip('?')\n",
    "        s = s + '}{'\n",
    "        for b in bottom:\n",
    "            if b[0].isdigit():\n",
    "                b = b + rm2 + '^{'\n",
    "                while b[0].isdigit():\n",
    "                    b = b[1:] + b[0]\n",
    "                b = rm1 + b + '}'\n",
    "            else:\n",
    "                b = rm1 + b + rm2\n",
    "            s = s + b + sep\n",
    "        s = ('?' + s).strip(sep).strip('?')\n",
    "        s = s + '}'\n",
    "                \n",
    "    return '$' + size + ' ' + s + '$'\n",
    "\n",
    "\n",
    "# error types: (), pm, seperate\n",
    "def sc(data,Δdata='none',unit='',n=3,errortype='()',fixed_unit=False,max_dim_diff=4):\n",
    "    data = np.array(data)\n",
    "    # without errors\n",
    "    if Δdata == 'none':\n",
    "        # powers of 10\n",
    "        dims = np.floor(np.log10(data))\n",
    "        # one factor for all\n",
    "        if max(dims)-min(dims) <= max_dim_diff:\n",
    "            # powers of *3 are not prefered\n",
    "            if fixed_unit:\n",
    "                # keep dimensions\n",
    "                if all(dims <= 2) and all(dims >= 0):\n",
    "                    ch_dims = 0\n",
    "                # change dimensions\n",
    "                else:\n",
    "                    ch_dims = -min(dims)\n",
    "            # powers of *3 are prefered\n",
    "            else:\n",
    "                print(dims - (min(dims)+1)//3*3)\n",
    "                # *3 dimensions\n",
    "                if all(dims - min(dims)//3*3 <= 3):\n",
    "                    ch_dims = -min(dims)//3*3\n",
    "                elif all(dims - (min(dims)+1)//3*3 <= 2):\n",
    "                    ch_dims = -(min(dims)+1)//3*3\n",
    "                # not *3 dimensions\n",
    "                else:\n",
    "                    ch_dims = -min(dims)\n",
    "        # seperate factors (implicitly fixed unit)\n",
    "        else:\n",
    "            ch_dims = dims * ((dims > 2) + (dims < 0))\n",
    "    # with errors\n",
    "    else:\n",
    "        Δdata = np.array(Δdata)\n",
    "        \n",
    "                    \n",
    "    return(ch_dims)\n",
    "            \n",
    "            \n",
    "    \n",
    "    \n",
    "    \n",
    "    \n",
    "dats = [0.001234678,0.3443342123,3,9.234,324.934893476,234234.56]\n",
    "#dats = [3.356,12.2345,123.45,4.678,0.34]\n",
    "print(sc(dats,fixed_unit=0,max_dim_diff=4))\n",
    "    \n",
    "#unit = '10-3 nm 2s -K'    \n",
    "#print('\\n',__convert_unit(unit))\n",
    "#ax = plt.axes([0,0,0.01,0.01])\n",
    "#ax.set_xticks([])\n",
    "#ax.set_yticks([])\n",
    "#plt.text(0.3,0.4,__convert_unit(unit,size='',textrm=0),size=30)"
   ]
  },
  {
   "cell_type": "code",
   "execution_count": null,
   "metadata": {
    "collapsed": false
   },
   "outputs": [],
   "source": []
  },
  {
   "cell_type": "code",
   "execution_count": 8,
   "metadata": {
    "collapsed": false
   },
   "outputs": [],
   "source": [
    "# reading data files\n",
    "\n",
    "# private\n",
    "def __read_data(file,sep='\\t',decimal_point=True):\n",
    "    arr = []\n",
    "    text_arr = []\n",
    "    data_arr = []\n",
    "    text_dict = {}\n",
    "    for line in open(file):\n",
    "        if not decimal_point:\n",
    "            arr.append(line.replace(',','.').strip().split(sep))\n",
    "        else:\n",
    "            arr.append(line.strip().split(sep))\n",
    "        try:\n",
    "            for j in range(len(arr[-1])):\n",
    "                arr[-1][j] = float(arr[-1][j])\n",
    "            data_arr.append(arr[-1])\n",
    "        except ValueError:\n",
    "            text_arr.append([el.strip('\\n').strip() for el in arr[-1]])\n",
    "            if len(arr[-1]) == 2:\n",
    "                try:\n",
    "                    arr[-1][-1] = float(arr[-1][-1])\n",
    "                    key = arr[-1][0].strip(':').strip()\n",
    "                    value = arr[-1][-1]\n",
    "                    if key in text_dict:\n",
    "                        if type(text_dict[key]) is list:\n",
    "                            text_dict[key].append(value)\n",
    "                        else:\n",
    "                            text_dict[key] = [text_dict[key], value]\n",
    "                    else:\n",
    "                        text_dict[key] = value\n",
    "                except ValueError:\n",
    "                    pass\n",
    "    return data_arr,text_arr,text_dict\n",
    "\n",
    "\n",
    "def import_data(path='Data',sep='\\t',decimal_point=True):\n",
    "    for root, directories, files in os.walk(path):\n",
    "        n = 0\n",
    "        ignored_files = []\n",
    "        data_files = {}\n",
    "        data = []\n",
    "        notes = []\n",
    "        conditions = []\n",
    "        for file in files:\n",
    "            if len(file.split('.')) != 1:\n",
    "                if file.split('.')[-1].lower() not in ['txt','csv','asc','tka']:\n",
    "                    ignored_files.append(file)\n",
    "                    continue\n",
    "\n",
    "            data_arr, text_arr, text_dict = __read_data(path+'/'+file, sep = sep, decimal_point = decimal_point)\n",
    "            data.append(np.rollaxis(np.array(data_arr),1))\n",
    "            notes.append(text_arr)\n",
    "            conditions.append(text_dict)\n",
    "            data_files['data[%d]'%n] = file\n",
    "            n += 1\n",
    "\n",
    "        print('From '+str(root)+' the following files were imported:\\n')\n",
    "        print(\"{:9} {:11} {:20} {:10} {:10} {:^50.50}\\n\".format('varname','','filename','shape','conditions','notes'))\n",
    "        keylist = sorted(data_files.keys())\n",
    "        n = 0\n",
    "        for key, value in sorted(data_files.items(), key = lambda key_val: int(key_val[0].strip(']').split('[')[-1])):\n",
    "            print(\"{:9} {:11} {:19} {:15} {:6} {:50.50}\".format(key, ':', value,\n",
    "                                                   str(np.shape(data[n])[0])+' x '+str(np.shape(data[n])[1]),\n",
    "                                                           str(len(conditions[n])),\n",
    "                                                           ';  '.join([str(note) for note in np.squeeze(notes[n])])))\n",
    "            n += 1\n",
    "        print('\\nThe following subfolders have been ignored:\\n')\n",
    "        for folder in directories:\n",
    "            print(folder)\n",
    "        print('\\nThe following files have been ignored:\\n')\n",
    "        for file in ignored_files:\n",
    "            print(file)\n",
    "        break\n",
    "    return data, notes, conditions"
   ]
  },
  {
   "cell_type": "code",
   "execution_count": null,
   "metadata": {
    "collapsed": false
   },
   "outputs": [],
   "source": []
  },
  {
   "cell_type": "code",
   "execution_count": 95,
   "metadata": {
    "collapsed": false
   },
   "outputs": [],
   "source": [
    "# creating LaTeX table\n",
    "\n",
    "import sys\n",
    "\n",
    "table_count = 0\n",
    "\n",
    "class Table:\n",
    "    \n",
    "    def __init__(self,data,rownames,columnnames,caption=''):\n",
    "        self.data = data\n",
    "        self.rownames = rownames\n",
    "        self.columnnames = columnnames\n",
    "        self.caption = caption\n",
    "        sys.modules[__name__].table_count += 1\n",
    "        self.__table_number = sys.modules[__name__].table_count\n",
    "    \n",
    "    def create(self,scale=1,colsep='12pt',rowsep='1.2',color='gray!12'):\n",
    "        code = r'''\t\\setlength{\\tabcolsep}{'''+ colsep + r'''}\n",
    "\t\\renewcommand{\\arraystretch}{''' + rowsep + r'''}\n",
    "\t\\begin{table}[ht]\n",
    "\t\t\\rowcolors{2}{''' + color + r'''}{''' + color + r'''}\n",
    "\t\t\\centering\n",
    "\t\t\\scalebox{''' + str(scale) + r'''}{\n",
    "\t\t\\begin{tabular}{>{\\cellcolor[gray]{0.83}}r@{\\hskip 3pt}|*{''' + str(len(self.data[0])) + r'''}{c!{\\color{gray!25}\\vrule width 0.1mm}}}\n",
    "\t\t\t\\rowcolor[gray]{0.83}\n",
    "\t\t\t''' + self.rownames[0]\n",
    "        for j in range(len(self.columnnames)):\n",
    "            code = code + ' & ' + self.columnnames[j]\n",
    "        code = code + r''' \\\\         \n",
    "\t\t\t\\hline\n",
    "\t\t\t'''\n",
    "        for i in range(len(self.data)-1):\n",
    "            code = code + self.rownames[i + 1]\n",
    "            for j in range(len(self.data[0])):\n",
    "                code = code + ' & ' + str(self.data[i][j])\n",
    "            code = code + r''' \\\\             \n",
    "\t\t\t\\noalign{\\color{gray!25}\\hrule height 0.1mm}\n",
    "\t\t\t'''\n",
    "        code = code + self.rownames[len(self.data)]\n",
    "        for j in range(len(self.data[len(self.data)-1])):\n",
    "            code = code + ' & ' + str(self.data[len(self.data)-1][j])\n",
    "        code = code + r''' \\\\         \n",
    "\t\t\\end{tabular}}\n",
    "\t\t\\caption{''' + self.caption + '''}\n",
    "\t\\end{table}'''\n",
    "        self.table = code\n",
    "        \n",
    "    def save(self,filename):\n",
    "        with open('table' + str(self.__table_number) + '_' + filename + '.tex', 'w') as f:\n",
    "            f.write(self.table)\n",
    "            f.close()\n",
    "            \n",
    "            \n",
    "# imports"
   ]
  },
  {
   "cell_type": "code",
   "execution_count": 96,
   "metadata": {
    "collapsed": false
   },
   "outputs": [],
   "source": [
    "t = Table([[1,2],[3,4]],['test table','v1','v2'],['m1','m2'])\n",
    "t.create()\n",
    "t.save('test')"
   ]
  },
  {
   "cell_type": "code",
   "execution_count": null,
   "metadata": {
    "collapsed": false
   },
   "outputs": [],
   "source": []
  }
 ],
 "metadata": {
  "anaconda-cloud": {},
  "kernelspec": {
   "display_name": "Python [Root]",
   "language": "python",
   "name": "Python [Root]"
  },
  "language_info": {
   "codemirror_mode": {
    "name": "ipython",
    "version": 3
   },
   "file_extension": ".py",
   "mimetype": "text/x-python",
   "name": "python",
   "nbconvert_exporter": "python",
   "pygments_lexer": "ipython3",
   "version": "3.5.2"
  }
 },
 "nbformat": 4,
 "nbformat_minor": 0
}
