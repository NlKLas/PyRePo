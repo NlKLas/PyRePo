{
 "cells": [
  {
   "cell_type": "markdown",
   "metadata": {
    "collapsed": true
   },
   "source": [
    "### Initialization"
   ]
  },
  {
   "cell_type": "code",
   "execution_count": 4,
   "metadata": {
    "collapsed": true
   },
   "outputs": [],
   "source": [
    "# import\n",
    "%matplotlib inline\n",
    "import matplotlib.pyplot as plt\n",
    "import numpy as np\n",
    "from scipy.optimize import curve_fit"
   ]
  },
  {
   "cell_type": "code",
   "execution_count": 2,
   "metadata": {
    "collapsed": false
   },
   "outputs": [],
   "source": [
    "# constants\n",
    "R = 0.99\n",
    "d = 1.51 *0.01 # m\n",
    "Δd = 0.01 *0.01 # m\n",
    "F = 30.0 *0.01 # m\n",
    "ΔF = 0.5 *0.01 # m\n",
    "λ_Cd = 643.85 *10**-9 # m\n",
    "λ_Zn = 636.24 *10**-9 # m"
   ]
  },
  {
   "cell_type": "code",
   "execution_count": 32,
   "metadata": {
    "collapsed": false
   },
   "outputs": [],
   "source": [
    "# measured data\n",
    "\n",
    "path = 'Data/'\n",
    "\n",
    "#1\n",
    "input = path+'1.txt'\n",
    "data_1 = [[],[]]\n",
    "count = 0\n",
    "for line in open(input):\n",
    "    if count < 26:\n",
    "        data_1[0].append(np.float(line.split()[1]))\n",
    "        count = count + 1\n",
    "    else:\n",
    "        data_1[1].append(np.float(line.split()[1]))\n",
    "\n",
    "# data_1[0] = hoch, data_1[1] = runter\n",
    "data_1 = np.array([data_1[0],data_1[1][::-1]]) * 0.001 # T\n",
    "Δdata_1 = 3 *0.001 # T\n",
    "I_1 = 2*np.array([range(26),range(26)]) # A\n",
    "ΔI_1 = 1 # A\n",
    "\n",
    "#4\n",
    "data_4 = [[],[]]\n",
    "rings_4 = [[],[]]\n",
    "\n",
    "# Zn\n",
    "input = path+'4_Zn.txt'\n",
    "for line in open(input):\n",
    "    rings_4[0].append(np.float(line.split()[0]))\n",
    "    data_4[0].append(np.float(line.split()[1]))\n",
    "\n",
    "# Cd\n",
    "input = path+'4_Cd.txt'\n",
    "for line in open(input):\n",
    "    rings_4[1].append(np.float(line.split()[0]))\n",
    "    data_4[1].append(np.float(line.split()[1]))\n",
    "\n",
    "# data_4[0] = Zn, data_4[1] = Cd\n",
    "data_4 = [np.array(data_4[0]) *0.001,np.array(data_4[1]) *0.001] # m\n",
    "Δdata_4 = 0.1 *0.001 # m\n",
    "rings_4 = np.array(rings_4)\n",
    "\n",
    "#6\n",
    "I_6 = np.array([9,19,32]) # A\n",
    "ΔI_6 = 1 # A\n",
    "split_6 = ['1/4','1/2','3/4']\n",
    "\n",
    "#7\n",
    "I_7 = I_6[0] # A\n",
    "ΔI_7 = ΔI_6 # A\n",
    "data_7 = [[],[]]\n",
    "rings_7 = [[],[]]\n",
    "\n",
    "input = path+'7.txt'\n",
    "count = 0\n",
    "for line in open(input):\n",
    "    if (0 == count or 7 == count):\n",
    "        pass\n",
    "    else:\n",
    "        if count < 7:\n",
    "            rings_7[0].append(np.float(line.split()[0]))\n",
    "            data_7[0].append(np.float(line.split()[1]))\n",
    "        else:\n",
    "            rings_7[1].append(np.float(line.split()[0]))\n",
    "            data_7[1].append(np.float(line.split()[1]))\n",
    "\n",
    "# data_7[0] = polarisation up, data_7[1] = polarisation right\n",
    "data_7 = np.array(data_7) *0.001 # m\n",
    "Δdata_7 = 0.1 *0.001 # m\n",
    "rings_7 = np.array(rings_7)\n",
    "\n",
    "#8\n",
    "I_8 = 5 # A\n",
    "ΔI_8 = 1 # A"
   ]
  },
  {
   "cell_type": "code",
   "execution_count": 4,
   "metadata": {
    "collapsed": false
   },
   "outputs": [],
   "source": [
    "# theoretical functions\n"
   ]
  },
  {
   "cell_type": "markdown",
   "metadata": {},
   "source": [
    "### Task 1"
   ]
  },
  {
   "cell_type": "code",
   "execution_count": 5,
   "metadata": {
    "collapsed": false
   },
   "outputs": [],
   "source": [
    "# calculations\n"
   ]
  },
  {
   "cell_type": "code",
   "execution_count": 6,
   "metadata": {
    "collapsed": false
   },
   "outputs": [],
   "source": [
    "# plots\n"
   ]
  }
 ],
 "metadata": {
  "anaconda-cloud": {},
  "kernelspec": {
   "display_name": "Python [Root]",
   "language": "python",
   "name": "Python [Root]"
  },
  "language_info": {
   "codemirror_mode": {
    "name": "ipython",
    "version": 3
   },
   "file_extension": ".py",
   "mimetype": "text/x-python",
   "name": "python",
   "nbconvert_exporter": "python",
   "pygments_lexer": "ipython3",
   "version": "3.5.2"
  }
 },
 "nbformat": 4,
 "nbformat_minor": 0
}
