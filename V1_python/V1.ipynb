{
 "cells": [
  {
   "cell_type": "markdown",
   "metadata": {
    "collapsed": true
   },
   "source": [
    "### Initialization"
   ]
  },
  {
   "cell_type": "code",
   "execution_count": 3,
   "metadata": {
    "collapsed": true
   },
   "outputs": [],
   "source": [
    "# import\n",
    "%matplotlib inline\n",
    "import matplotlib.pyplot as plt\n",
    "import numpy as np\n",
    "from scipy.optimize import curve_fit"
   ]
  },
  {
   "cell_type": "code",
   "execution_count": 30,
   "metadata": {
    "collapsed": false
   },
   "outputs": [],
   "source": [
    "# constants\n",
    "R = 0.99\n",
    "d = 1.51 *0.01 # m\n",
    "Δd = 0.01 *0.01 # m\n",
    "F = 30.0 *0.01 # m\n",
    "ΔF = 0.5 *0.01 # m\n",
    "c = 3.00 *10**8 # m/s\n",
    "e = 1.602 * 10**-19 # C\n",
    "m_e = 9.109 * 10**-31 # kg\n",
    "h = 6.626 * 10**-34 # Js\n",
    "# μ_B = e * h / (4 * np.pi * m_e) # J/T\n",
    "# Mit der Formel bekommst du einen Rundungsfehler\n",
    "μ_B = 9.274 * 10**-24 # J/T\n",
    "λ_Cd = 643.85 *10**-9 # m\n",
    "λ_Zn = 636.24 *10**-9 # m"
   ]
  },
  {
   "cell_type": "code",
   "execution_count": 5,
   "metadata": {
    "collapsed": false
   },
   "outputs": [],
   "source": [
    "# measured data\n",
    "\n",
    "path = 'Data/'\n",
    "\n",
    "#1\n",
    "input = path+'1.txt'\n",
    "data_1 = [[],[]]\n",
    "count = 0\n",
    "for line in open(input):\n",
    "    if count < 26:\n",
    "        data_1[0].append(np.float(line.split()[1]))\n",
    "        count = count + 1\n",
    "    else:\n",
    "        data_1[1].append(np.float(line.split()[1]))\n",
    "\n",
    "# data_1[0] = hoch, data_1[1] = runter\n",
    "data_1 = np.array([data_1[0],data_1[1][::-1]]) * 0.001 # T\n",
    "Δdata_1 = 3 *0.001 # T\n",
    "I_1 = 2*np.array([range(26),range(26)]) # A\n",
    "ΔI_1 = 1 # A\n",
    "\n",
    "#4\n",
    "data_4 = [[],[]]\n",
    "rings_4 = [[],[]]\n",
    "\n",
    "# Zn\n",
    "input = path+'4_Zn.txt'\n",
    "for line in open(input):\n",
    "    rings_4[0].append(np.float(line.split()[0]))\n",
    "    data_4[0].append(np.float(line.split()[1]))\n",
    "\n",
    "# Cd\n",
    "input = path+'4_Cd.txt'\n",
    "for line in open(input):\n",
    "    rings_4[1].append(np.float(line.split()[0]))\n",
    "    data_4[1].append(np.float(line.split()[1]))\n",
    "\n",
    "# data_4[0] = Zn, data_4[1] = Cd\n",
    "data_4 = [np.array(data_4[0]) *0.001,np.array(data_4[1]) *0.001] # m\n",
    "Δdata_4 = 0.1 *0.001 # m\n",
    "rings_4 = np.array(rings_4)\n",
    "\n",
    "#6\n",
    "I_6 = np.array([9,19,32]) # A\n",
    "ΔI_6 = 1 # A\n",
    "split_6 = ['1/4','1/2','3/4']\n",
    "\n",
    "#7\n",
    "I_7 = I_6[0] # A\n",
    "ΔI_7 = ΔI_6 # A\n",
    "data_7 = [[],[]]\n",
    "rings_7 = [[],[]]\n",
    "\n",
    "input = path+'7.txt'\n",
    "count = 0\n",
    "for line in open(input):\n",
    "    if (0 == count or 7 == count):\n",
    "        pass\n",
    "    else:\n",
    "        if count < 7:\n",
    "            rings_7[0].append(np.float(line.split()[0]))\n",
    "            data_7[0].append(np.float(line.split()[1]))\n",
    "        else:\n",
    "            rings_7[1].append(np.float(line.split()[0]))\n",
    "            data_7[1].append(np.float(line.split()[1]))\n",
    "\n",
    "# data_7[0] = polarisation up, data_7[1] = polarisation right\n",
    "data_7 = np.array(data_7) *0.001 # m\n",
    "Δdata_7 = 0.1 *0.001 # m\n",
    "rings_7 = np.array(rings_7)\n",
    "\n",
    "#8\n",
    "I_8 = 5 # A\n",
    "ΔI_8 = 1 # A"
   ]
  },
  {
   "cell_type": "code",
   "execution_count": 6,
   "metadata": {
    "collapsed": false
   },
   "outputs": [],
   "source": [
    "# theoretical functions\n",
    "f_lin = lambda x,a,b: a+b*x"
   ]
  },
  {
   "cell_type": "markdown",
   "metadata": {},
   "source": [
    "### Task 1"
   ]
  },
  {
   "cell_type": "code",
   "execution_count": 7,
   "metadata": {
    "collapsed": false
   },
   "outputs": [],
   "source": [
    "# calculations\n",
    "None"
   ]
  },
  {
   "cell_type": "code",
   "execution_count": 8,
   "metadata": {
    "collapsed": false
   },
   "outputs": [
    {
     "data": {
      "text/plain": [
       "[<matplotlib.lines.Line2D at 0x2d6a4d254a8>]"
      ]
     },
     "execution_count": 8,
     "metadata": {},
     "output_type": "execute_result"
    },
    {
     "data": {
      "image/png": "[encoded data removed]",
      "text/plain": [
       "<matplotlib.figure.Figure at 0x2d6a48f7dd8>"
      ]
     },
     "metadata": {},
     "output_type": "display_data"
    }
   ],
   "source": [
    "# plots\n",
    "fig,ax = plt.subplots(1,2,figsize=(16,6))\n",
    "\n",
    "#ax[0].errorbar(I_1[0],data_1[0],xerr=ΔI_1,yerr=Δdata_1,fmt='.',c='r')\n",
    "ax[0].plot(I_1[0],data_1[0]+Δdata_1,'--r')\n",
    "ax[0].plot(I_1[0],data_1[0]-Δdata_1,'--r')\n",
    "#ax[0].errorbar(I_1[1],data_1[1],xerr=ΔI_1,yerr=Δdata_1,fmt='.',c='b')\n",
    "ax[0].plot(I_1[1],data_1[1]+Δdata_1,'--b')\n",
    "ax[0].plot(I_1[1],data_1[1]-Δdata_1,'--b')\n",
    "\n",
    "ax[1].plot(I_1[0],data_1[1]-data_1[0])\n",
    "ax[1].axhline(0,c='r')\n",
    "ax[1].plot([0,50],2*[np.sqrt(2)*Δdata_1],'--r')\n",
    "ax[1].plot([0,50],2*[-np.sqrt(2)*Δdata_1],'--r')"
   ]
  },
  {
   "cell_type": "markdown",
   "metadata": {},
   "source": [
    "###### # conclusion\n",
    "Hysterese ist angedeutet, allerdings sehr schwach ausgeprägt. Liegt nicht in den Fehlergrenzen von B, aber in den recht großen von I."
   ]
  },
  {
   "cell_type": "code",
   "execution_count": null,
   "metadata": {
    "collapsed": true
   },
   "outputs": [],
   "source": []
  },
  {
   "cell_type": "code",
   "execution_count": 68,
   "metadata": {
    "collapsed": false
   },
   "outputs": [
    {
     "name": "stdout",
     "output_type": "stream",
     "text": [
      "[  6.39506945e-03   1.72433336e-02   3.76274460e-04  -1.78058756e-05\n",
      "   1.70898078e-07]\n",
      "[  2.37582873e-03   6.86087054e-04   5.74378880e-05   1.74249788e-06\n",
      "   1.72807517e-08]\n"
     ]
    },
    {
     "data": {
      "image/png": "[encoded data removed]",
      "text/plain": [
       "<matplotlib.figure.Figure at 0x2d6a95d4ac8>"
      ]
     },
     "metadata": {},
     "output_type": "display_data"
    }
   ],
   "source": [
    "fig,ax = plt.subplots(1,1,figsize=(16,10))\n",
    "fun = lambda x,*a: sum([a[i]*x**i for i in range(len(a))])\n",
    "opt,cov =curve_fit(fun,I_1[0],data_1[0],p0=(1,1,1,1,1),sigma=Δdata_1,absolute_sigma=True)\n",
    "#ax[0].errorbar(I_1[0],data_1[0],xerr=ΔI_1,yerr=Δdata_1,fmt='.',c='r')\n",
    "ax.plot(I_1[0],data_1[0],'-b')\n",
    "ax.plot(I_1[0],fun(I_1[0],*opt))\n",
    "print(opt,np.sqrt(np.diag(cov)),sep='\\n')\n",
    "#ax.plot(I_1[0],data_1[0]-Δdata_1,'--r')"
   ]
  },
  {
   "cell_type": "markdown",
   "metadata": {},
   "source": [
    "### Task 2"
   ]
  },
  {
   "cell_type": "code",
   "execution_count": 9,
   "metadata": {
    "collapsed": false
   },
   "outputs": [],
   "source": [
    "# calculations\n",
    "None"
   ]
  },
  {
   "cell_type": "code",
   "execution_count": 10,
   "metadata": {
    "collapsed": false
   },
   "outputs": [],
   "source": [
    "# plots\n",
    "None"
   ]
  },
  {
   "cell_type": "markdown",
   "metadata": {},
   "source": [
    "###### # conclusion\n",
    "None"
   ]
  },
  {
   "cell_type": "markdown",
   "metadata": {},
   "source": [
    "### Task 3"
   ]
  },
  {
   "cell_type": "code",
   "execution_count": 11,
   "metadata": {
    "collapsed": false
   },
   "outputs": [],
   "source": [
    "# calculations\n",
    "None"
   ]
  },
  {
   "cell_type": "code",
   "execution_count": 12,
   "metadata": {
    "collapsed": false
   },
   "outputs": [],
   "source": [
    "# plots\n",
    "None"
   ]
  },
  {
   "cell_type": "markdown",
   "metadata": {},
   "source": [
    "###### # conclusion\n",
    "None"
   ]
  },
  {
   "cell_type": "markdown",
   "metadata": {},
   "source": [
    "### Task 4"
   ]
  },
  {
   "cell_type": "code",
   "execution_count": 13,
   "metadata": {
    "collapsed": false
   },
   "outputs": [],
   "source": [
    "# calculations\n",
    "\n",
    "o_4 = [[],[]]\n",
    "r_4 = [[],[]]\n",
    "b_4 = [[],[]]\n",
    "\n",
    "# Zn\n",
    "# Bestimmung des Nullpunkts\n",
    "o_4[0] = (sum(data_4[0][0:3]+data_4[0][6:3:-1])+data_4[0][3])/4\n",
    "#Δo_4[0]\n",
    "r_4[0] = o_4[0] - data_4[0][4:]\n",
    "#Δr_4[0]\n",
    "\n",
    "# linear fit\n",
    "opt_Zn, cov_Zn = curve_fit(lambda x,a,b: a+b*x, np.linspace(1,10,10), r_4[0]**2)\n",
    "b_4[0] = opt_Zn[1]\n",
    "\n",
    "# Cd\n",
    "# Bestimmung des Nullpunkts\n",
    "o_4[1] = (sum(data_4[1][0:3]+data_4[1][5:2:-1]))/3\n",
    "#Δo_4[0]\n",
    "r_4[1] = o_4[1] - data_4[1][3:]\n",
    "#Δr_4[0]\n",
    "\n",
    "# linear fit\n",
    "opt_Cd, cov_Cd = curve_fit(f_lin, np.linspace(1,10,10), r_4[1]**2)\n",
    "b_4[1] = opt_Cd[1]"
   ]
  },
  {
   "cell_type": "code",
   "execution_count": 14,
   "metadata": {
    "collapsed": false
   },
   "outputs": [
    {
     "name": "stdout",
     "output_type": "stream",
     "text": [
      "6.86536295057e-07 8.15599096191e-07\n"
     ]
    },
    {
     "data": {
      "image/png": "[encoded data removed]",
      "text/plain": [
       "<matplotlib.figure.Figure at 0x2d6a5486780>"
      ]
     },
     "metadata": {},
     "output_type": "display_data"
    }
   ],
   "source": [
    "# plots\n",
    "fig,ax = plt.subplots(1,2,figsize=(16,6))\n",
    "\n",
    "ax[0].plot(rings_4[0],data_4[0],'-b')\n",
    "ax[0].plot(rings_4[1],data_4[1],'-g')\n",
    "ax[0].axhline(o_4[0],c='b')\n",
    "ax[0].axhline(o_4[1],c='g')\n",
    "ax[1].plot(range(1,11),r_4[0]**2)\n",
    "ax[1].plot(range(1,11),r_4[1]**2)\n",
    "\n",
    "x = np.linspace(1,10,50)\n",
    "ax[1].plot(x,f_lin(x,*opt_Zn))\n",
    "ax[1].plot(x,f_lin(x,*opt_Cd))\n",
    "λ_Zn4 = b_4[0]*d/F**2\n",
    "λ_Cd4 = b_4[1]*d/F**2\n",
    "print(λ_Zn4,λ_Cd4)"
   ]
  },
  {
   "cell_type": "markdown",
   "metadata": {},
   "source": [
    "###### # conclusion\n",
    "Fehler müssen noch ordentlich gemacht werden, scheinen aber recht groß zu sein, dementsprechend die Werte vermutlich noch akzeptabel."
   ]
  },
  {
   "cell_type": "markdown",
   "metadata": {},
   "source": [
    "### Task 5"
   ]
  },
  {
   "cell_type": "code",
   "execution_count": 15,
   "metadata": {
    "collapsed": false
   },
   "outputs": [],
   "source": [
    "# calculations\n",
    "None"
   ]
  },
  {
   "cell_type": "code",
   "execution_count": 16,
   "metadata": {
    "collapsed": false
   },
   "outputs": [],
   "source": [
    "# plots\n",
    "None"
   ]
  },
  {
   "cell_type": "markdown",
   "metadata": {},
   "source": [
    "###### # conclusion\n",
    "None"
   ]
  },
  {
   "cell_type": "markdown",
   "metadata": {},
   "source": [
    "### Task 6"
   ]
  },
  {
   "cell_type": "code",
   "execution_count": 17,
   "metadata": {
    "collapsed": false
   },
   "outputs": [],
   "source": [
    "# calculations\n",
    "\n",
    "# Rechne I in B um über Mittelung der zwei umliegenden Werte, falls nötig\n",
    "# verwende aufsteigenden Teil der Hysterese\n",
    "B_6 = (data_1[0][np.floor(I_6/2).astype(np.int64)] + data_1[0][np.ceil(I_6/2).astype(np.int64)])/2\n",
    "#ΔB_6"
   ]
  },
  {
   "cell_type": "code",
   "execution_count": 18,
   "metadata": {
    "collapsed": false
   },
   "outputs": [],
   "source": [
    "# plots\n"
   ]
  },
  {
   "cell_type": "markdown",
   "metadata": {},
   "source": [
    "###### # conclusion\n",
    "Eine Tabelle müsste gemacht werden."
   ]
  },
  {
   "cell_type": "markdown",
   "metadata": {},
   "source": [
    "### Task 7"
   ]
  },
  {
   "cell_type": "code",
   "execution_count": 20,
   "metadata": {
    "collapsed": false
   },
   "outputs": [],
   "source": [
    "# calculations\n"
   ]
  },
  {
   "cell_type": "code",
   "execution_count": 6,
   "metadata": {
    "collapsed": false
   },
   "outputs": [],
   "source": [
    "# plots\n"
   ]
  },
  {
   "cell_type": "markdown",
   "metadata": {},
   "source": [
    "###### # conclusion\n"
   ]
  },
  {
   "cell_type": "markdown",
   "metadata": {},
   "source": [
    "### Task 8"
   ]
  },
  {
   "cell_type": "code",
   "execution_count": 34,
   "metadata": {
    "collapsed": false
   },
   "outputs": [
    {
     "name": "stdout",
     "output_type": "stream",
     "text": [
      "14661881.7627\n",
      "167289.166858\n"
     ]
    }
   ],
   "source": [
    "# calculations\n",
    "\n",
    "# theoretical resolving capacity\n",
    "rc_t = np.pi * d / λ_Cd *2* np.sqrt(R)/(1-R)\n",
    "\n",
    "# measured resolving capacity\n",
    "# Hysterese aufwärts\n",
    "B_8 = (data_1[0][np.floor(I_8/2).astype(np.int64)] + data_1[0][np.ceil(I_8/2).astype(np.int64)])/2\n",
    "#ΔB_8\n",
    "dE = μ_B * B_8\n",
    "dλ_p = h * c /(h * c / λ_Cd - dE)\n",
    "dλ_m = h * c /(h * c / λ_Cd + dE)\n",
    "rc_m = λ_Cd / (dλ_p-dλ_m)\n",
    "\n",
    "print(rc_t,rc_m,sep='\\n')"
   ]
  },
  {
   "cell_type": "code",
   "execution_count": 35,
   "metadata": {
    "collapsed": false
   },
   "outputs": [],
   "source": [
    "# plots\n"
   ]
  },
  {
   "cell_type": "markdown",
   "metadata": {},
   "source": [
    "###### # conclusion\n",
    "Vielleicht ist irgendwo ne Zehnerpotenz falsch..."
   ]
  },
  {
   "cell_type": "markdown",
   "metadata": {},
   "source": [
    "### Task 9"
   ]
  },
  {
   "cell_type": "code",
   "execution_count": 5,
   "metadata": {
    "collapsed": false
   },
   "outputs": [],
   "source": [
    "# calculations\n"
   ]
  },
  {
   "cell_type": "code",
   "execution_count": 6,
   "metadata": {
    "collapsed": false
   },
   "outputs": [],
   "source": [
    "# plots\n"
   ]
  },
  {
   "cell_type": "markdown",
   "metadata": {},
   "source": [
    "###### # conclusion\n"
   ]
  }
 ],
 "metadata": {
  "anaconda-cloud": {},
  "kernelspec": {
   "display_name": "Python [Root]",
   "language": "python",
   "name": "Python [Root]"
  },
  "language_info": {
   "codemirror_mode": {
    "name": "ipython",
    "version": 3
   },
   "file_extension": ".py",
   "mimetype": "text/x-python",
   "name": "python",
   "nbconvert_exporter": "python",
   "pygments_lexer": "ipython3",
   "version": "3.5.2"
  }
 },
 "nbformat": 4,
 "nbformat_minor": 0
}
