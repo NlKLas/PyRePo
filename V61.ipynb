{
 "cells": [
  {
   "cell_type": "code",
   "execution_count": 1,
   "metadata": {
    "collapsed": true
   },
   "outputs": [],
   "source": [
    "# import\n",
    "%matplotlib inline\n",
    "import matplotlib.pyplot as plt\n",
    "import numpy as np\n",
    "from scipy.misc import factorial\n",
    "from scipy.optimize import curve_fit"
   ]
  },
  {
   "cell_type": "code",
   "execution_count": 2,
   "metadata": {
    "collapsed": true
   },
   "outputs": [],
   "source": [
    "# constants\n",
    "#Falls was eine davon brauchen ;)\n",
    "c = 3 * 10 **8\n",
    "e = 1.6 * 10 **-19\n",
    "ϵ0 = 8.854 * 10 **-12\n",
    "me = 0.511 / c**2\n",
    "mp = 938 / c**2\n",
    "N_A = 6.022 * 10 **23\n",
    "m_α = 3727.379 / c**2\n",
    "W_air = 85.7 * 10 **-6\n",
    "W_He = 41.8 * 10 **-6\n",
    "W_Ar = 187 * 10 **-6\n",
    "Z_α = 2\n",
    "Ekin_α = 5.486\n",
    "k_b = 1.38 * 10 **-23\n",
    "k_air = 14.4\n",
    "k_He = 2\n",
    "k_Ar = 18\n",
    "# MeV/J\n",
    "MeV_J = 1/e * 10**-6\n",
    "n_refr = 1.33000\n",
    "λ_green = 532*10**-9 #m\n",
    "η = 0.89454"
   ]
  },
  {
   "cell_type": "code",
   "execution_count": 8,
   "metadata": {
    "collapsed": false,
    "scrolled": true
   },
   "outputs": [
    {
     "name": "stdout",
     "output_type": "stream",
     "text": [
      "Value Error : [' ']\n",
      "Value Error : [' ']\n",
      "Value Error : [' ']\n",
      "Value Error : [' ']\n",
      "Value Error : [' ']\n",
      "Value Error : [' ']\n",
      "Value Error : [' ']\n",
      "Value Error : [' ']\n",
      "Value Error : [' ']\n",
      "Value Error : [' ']\n",
      "Value Error : [' ']\n",
      "Value Error : [' ']\n",
      "Value Error : [' ']\n",
      "Value Error : [' ']\n",
      "Value Error : [' ']\n",
      "Value Error : [' ']\n",
      "Value Error : [' ']\n",
      "Value Error : [' ']\n",
      "Value Error : [' ']\n",
      "Value Error : [' ']\n",
      "Value Error : [' ']\n",
      "Value Error : [' ']\n",
      "Value Error : [' ']\n",
      "Value Error : [' ']\n",
      "Value Error : [' ']\n",
      "Value Error : [' ']\n",
      "Value Error : [' ']\n",
      "Value Error : [' ']\n",
      "Value Error : [' ']\n"
     ]
    }
   ],
   "source": [
    "#data input\n",
    "\n",
    "T = 298\n",
    "\n",
    "path = \"Data/\"\n",
    "angles_A = range(20,160,10) \n",
    "angles_B = angles_A[1:]\n",
    "angle_C = 40\n",
    "angle_D = 40\n",
    "data_A_cor = []\n",
    "data_A_int = []\n",
    "data_B_cor = []\n",
    "data_B_int = []\n",
    "data_C_cor = []\n",
    "data_C_int = []\n",
    "data_D_cor = []\n",
    "data_D_int = []\n",
    "\n",
    "\n",
    "# sample A\n",
    "files = ['A' + str(a) + '.ASC' for a in angles_A]\n",
    "for file in files:\n",
    "    input = path+file\n",
    "    read_cor = False;\n",
    "    read_int = False;\n",
    "    data_cor_angle = [[],[]]\n",
    "    data_int_angle = [[],[]]\n",
    "    \n",
    "    for line in open(input):\n",
    "    #print(line)        \n",
    "        if(read_int):\n",
    "            d = line.split(\"\\t\")    \n",
    "            try :\n",
    "                data_int_angle[0].append(float(d[0])) \n",
    "                data_int_angle[1].append(float(d[1])) \n",
    "            except ValueError : \n",
    "                print(\"Value Error :\",d)\n",
    "\n",
    "        if('\"Count Rate\"' in line):\n",
    "            read_cor =False;\n",
    "            read_int = True;\n",
    "\n",
    "        if(read_cor):\n",
    "            line = line.replace(\"\\n\",\" \")\n",
    "            d = line.split(\"\\t\") \n",
    "            #print(d)\n",
    "            try :\n",
    "                data_cor_angle[0].append(float(d[0])) \n",
    "                data_cor_angle[1].append(float(d[1]))  \n",
    "            except ValueError : \n",
    "                print(\"Value Error :\",d)\n",
    "\n",
    "        if('\"Correlation\"' in line):\n",
    "            #print(\"read Correlation\")\n",
    "            read_cor =True;\n",
    "            read_int =False;\n",
    "\n",
    "    \n",
    "    data_A_cor.append(data_cor_angle);\n",
    "    data_A_int.append(data_int_angle);     \n",
    "\n",
    "\n",
    "# sample B\n",
    "files = ['B' + str(a) + '.ASC' for a in angles_B]\n",
    "for file in files:\n",
    "    input = path+file\n",
    "    read_cor = False;\n",
    "    read_int = False;\n",
    "    data_cor_angle = [[],[]]\n",
    "    data_int_angle = [[],[]]\n",
    "    \n",
    "    for line in open(input):\n",
    "    #print(line)        \n",
    "        if(read_int):\n",
    "            d = line.split(\"\\t\")    \n",
    "            try :\n",
    "                data_int_angle[0].append(float(d[0])) \n",
    "                data_int_angle[1].append(float(d[1])) \n",
    "            except ValueError : \n",
    "                print(\"Value Error :\",d)\n",
    "\n",
    "        if('\"Count Rate\"' in line):\n",
    "            read_cor =False;\n",
    "            read_int = True;\n",
    "\n",
    "        if(read_cor):\n",
    "            line = line.replace(\"\\n\",\" \")\n",
    "            d = line.split(\"\\t\") \n",
    "            #print(d)\n",
    "            try :\n",
    "                data_cor_angle[0].append(float(d[0])) \n",
    "                data_cor_angle[1].append(float(d[1]))  \n",
    "            except ValueError : \n",
    "                print(\"Value Error :\",d)\n",
    "\n",
    "        if('\"Correlation\"' in line):\n",
    "            #print(\"read Correlation\")\n",
    "            read_cor =True;\n",
    "            read_int =False;\n",
    "\n",
    "    \n",
    "    data_B_cor.append(data_cor_angle);\n",
    "    data_B_int.append(data_int_angle); \n",
    "\n",
    "    \n",
    "# sample C\n",
    "file = 'C' + str(angle_C) + '.ASC'\n",
    "input = path+file\n",
    "read_cor = False;\n",
    "read_int = False;\n",
    "data_cor_angle = [[],[]]\n",
    "data_int_angle = [[],[]]\n",
    "\n",
    "for line in open(input):\n",
    "    #print(line)        \n",
    "    if(read_int):\n",
    "        d = line.split(\"\\t\")    \n",
    "        try :\n",
    "            data_int_angle[0].append(float(d[0])) \n",
    "            data_int_angle[1].append(float(d[1])) \n",
    "        except ValueError : \n",
    "            print(\"Value Error :\",d)\n",
    "\n",
    "    if('\"Count Rate\"' in line):\n",
    "        read_cor =False;\n",
    "        read_int = True;\n",
    "\n",
    "    if(read_cor):\n",
    "        line = line.replace(\"\\n\",\" \")\n",
    "        d = line.split(\"\\t\") \n",
    "        #print(d)\n",
    "        try :\n",
    "            data_cor_angle[0].append(float(d[0])) \n",
    "            data_cor_angle[1].append(float(d[1]))  \n",
    "        except ValueError : \n",
    "            print(\"Value Error :\",d)\n",
    "\n",
    "    if('\"Correlation\"' in line):\n",
    "        #print(\"read Correlation\")\n",
    "        read_cor =True;\n",
    "        read_int =False;\n",
    "\n",
    "\n",
    "data_C_cor.append(data_cor_angle);\n",
    "data_C_int.append(data_int_angle); \n",
    "\n",
    "\n",
    "# sample D\n",
    "file = 'D' + str(angle_D) + '.ASC'\n",
    "input = path+file\n",
    "read_cor = False;\n",
    "read_int = False;\n",
    "data_cor_angle = [[],[]]\n",
    "data_int_angle = [[],[]]\n",
    "\n",
    "for line in open(input):\n",
    "    #print(line)        \n",
    "    if(read_int):\n",
    "        d = line.split(\"\\t\")    \n",
    "        try :\n",
    "            data_int_angle[0].append(float(d[0])) \n",
    "            data_int_angle[1].append(float(d[1])) \n",
    "        except ValueError : \n",
    "            print(\"Value Error :\",d)\n",
    "\n",
    "    if('\"Count Rate\"' in line):\n",
    "        read_cor =False;\n",
    "        read_int = True;\n",
    "\n",
    "    if(read_cor):\n",
    "        line = line.replace(\"\\n\",\" \")\n",
    "        d = line.split(\"\\t\") \n",
    "        #print(d)\n",
    "        try :\n",
    "            data_cor_angle[0].append(float(d[0])) \n",
    "            data_cor_angle[1].append(float(d[1]))  \n",
    "        except ValueError : \n",
    "            print(\"Value Error :\",d)\n",
    "\n",
    "    if('\"Correlation\"' in line):\n",
    "        #print(\"read Correlation\")\n",
    "        read_cor =True;\n",
    "        read_int =False;\n",
    "\n",
    "data_D_cor.append(data_cor_angle);\n",
    "data_D_int.append(data_int_angle); "
   ]
  },
  {
   "cell_type": "markdown",
   "metadata": {},
   "source": [
    "Value Error ist hier nicht schlimm und sorgt nur dafür, dass die leere Zeile nicht in data geschrieben wird"
   ]
  },
  {
   "cell_type": "code",
   "execution_count": 4,
   "metadata": {
    "collapsed": false
   },
   "outputs": [],
   "source": [
    "#theoretical functions\n",
    "\n",
    "def mom_tra(Θ) :\n",
    "    return 4*np.pi*n_refr/λ_green*np.sin(np.pi/180*Θ/2)\n",
    "\n",
    "def P(q,a):\n",
    "    return 9/(q*a)**6*(np.sin(np.pi*180*q*a)-q*a*np.cos(np.pi*180*q*a))**2\n",
    "    \n",
    "def Intensity(q,a,A):\n",
    "    return A*P(q,a)\n",
    "\n",
    "def g_1(t,k1,k2,k3):\n",
    "    return np.exp(k1*t+k2*t**2/2+k3*t**3/6)\n",
    "\n",
    "def g_2(t,k1,k2,k3):\n",
    "    return g_1(t,k1,k2,k3)**2\n",
    "\n",
    "#def ln_g_2(t,k1,k2,k3,k4,k5,k6,k7):\n",
    " #   return #(k1*t+k2*t**2+k3*t**3+k4*t**4+k5*t**5+k6*t**6+k7*t**7)*2\n",
    "\n",
    "def ln_g_2(t,*k):\n",
    "    sum =0\n",
    "    i=1\n",
    "    for x in k:\n",
    "        sum=sum+x*t**i/factorial(i)\n",
    "        i+=1\n",
    "    return 2*sum"
   ]
  },
  {
   "cell_type": "markdown",
   "metadata": {},
   "source": [
    "<h1> Static light scattering </h1>"
   ]
  },
  {
   "cell_type": "code",
   "execution_count": 5,
   "metadata": {
    "collapsed": false,
    "scrolled": false
   },
   "outputs": [],
   "source": [
    "#static light scattering\n",
    "#evaluation of mean intensitiy\n",
    "data_A_mean_int = []\n",
    "data_A_mean_int_err = []\n",
    "data_B_mean_int = []\n",
    "data_B_mean_int_err = []\n",
    "\n",
    "for intensities in data_A_int[:len(angles_A)]:\n",
    "    mean_value = sum(intensities[1])/len(intensities[1])\n",
    "    data_A_mean_int_err.append(np.sqrt(sum([(i-mean_value)**2 for i in intensities[1]]))/np.sqrt(len(intensities[1])))\n",
    "    data_A_mean_int.append(mean_value)\n",
    "\n",
    "for intensities in data_B_int[:len(angles_B)]:\n",
    "    mean_value = sum(intensities[1])/len(intensities[1])\n",
    "    data_B_mean_int_err.append(np.sqrt(sum([(i-mean_value)**2 for i in intensities[1]]))/np.sqrt(len(intensities[1])))\n",
    "    data_B_mean_int.append(mean_value)\n",
    "\n",
    "#Intensity correction\n",
    "for i in range(len(angles_A)):\n",
    "    data_A_mean_int[i] = data_A_mean_int[i]*np.sin(np.pi/180*angles_A[i])\n",
    "    \n",
    "for i in range(len(angles_B)):\n",
    "    data_B_mean_int[i] = data_B_mean_int[i]*np.sin(np.pi/180*angles_B[i]) \n",
    "    \n",
    "#evaluation of momentum transfer q \n",
    "q_A = [mom_tra(Θ) for Θ in angles_A]\n",
    "q_A_err = []\n",
    "q_B = [mom_tra(Θ) for Θ in angles_B]\n",
    "q_B_err = []\n",
    "q_C = mom_tra(angle_C)\n",
    "q_D = mom_tra(angle_D)"
   ]
  },
  {
   "cell_type": "code",
   "execution_count": 6,
   "metadata": {
    "collapsed": false
   },
   "outputs": [
    {
     "data": {
      "text/plain": [
       "[<matplotlib.lines.Line2D at 0x7fba56b40358>]"
      ]
     },
     "execution_count": 6,
     "metadata": {},
     "output_type": "execute_result"
    },
    {
     "data": {
      "image/png": "[encoded data removed]",
      "text/plain": [
       "<matplotlib.figure.Figure at 0x7fba58a4f0f0>"
      ]
     },
     "metadata": {},
     "output_type": "display_data"
    }
   ],
   "source": [
    "#Plot of mean intensity vs angle\n",
    "fig,ax = plt.subplots(figsize=(10,8))\n",
    "ax.plot(angles_A,data_A_mean_int)\n",
    "ax.plot(angles_B,data_B_mean_int)"
   ]
  },
  {
   "cell_type": "code",
   "execution_count": 69,
   "metadata": {
    "collapsed": false
   },
   "outputs": [
    {
     "data": {
      "text/plain": [
       "<matplotlib.collections.PathCollection at 0x7ffa25e174a8>"
      ]
     },
     "execution_count": 69,
     "metadata": {},
     "output_type": "execute_result"
    },
    {
     "data": {
      "image/png": "[encoded data removed]",
      "text/plain": [
       "<matplotlib.figure.Figure at 0x7ffa25be2080>"
      ]
     },
     "metadata": {},
     "output_type": "display_data"
    }
   ],
   "source": [
    "#Plot of mean intensity vs momentum transfer\n",
    "popt, pcov = curve_fit(Intensity, q_A, data_A_mean_int)\n",
    "q = np.linspace(0.01,0.035,100)\n",
    "fig,ax = plt.subplots(figsize=(10,8))\n",
    "ax.plot(q,Intensity(q,*popt),c=\"r\")\n",
    "ax.scatter(q_A,data_A_mean_int)\n",
    "ax.scatter(q_B,data_B_mean_int)\n"
   ]
  },
  {
   "cell_type": "markdown",
   "metadata": {},
   "source": [
    "<h1> Dynamic light scattering </h1>"
   ]
  },
  {
   "cell_type": "code",
   "execution_count": 9,
   "metadata": {
    "collapsed": false,
    "scrolled": false
   },
   "outputs": [
    {
     "name": "stdout",
     "output_type": "stream",
     "text": [
      "sample A\n",
      "hydrodynamic Radius:  1.91264674418e-08\n",
      "diffusion coefficient:  1.32426478403e-14\n",
      "sample B\n",
      "hydrodynamic Radius:  2.09882383822e-08\n",
      "diffusion coefficient:  1.17581561019e-14\n",
      "sample C\n",
      "hydrodynamic Radius:  4.11599207997e-08\n",
      "diffusion coefficient:  5.92543081723e-15\n"
     ]
    }
   ],
   "source": [
    "########## sample A ########## \n",
    "ah_A = []\n",
    "D0_A = []\n",
    "D0_A_mean = 0\n",
    "ah_A_mean = 0\n",
    "\n",
    "#cut of the noises at the end\n",
    "for j in range(len(angles_A)):\n",
    "    i=0\n",
    "    for x in data_A_cor[j][1]:\n",
    "        if(x<0.01):\n",
    "            break\n",
    "        i+=1\n",
    "    data_A_cor[j][1] = data_A_cor[j][1][:i]\n",
    "    data_A_cor[j][0] = data_A_cor[j][0][:i]  \n",
    "\n",
    "for i in range(len(angles_A)):\n",
    "    popt, pcov = curve_fit(ln_g_2,(data_A_cor[i][0]),np.log(np.abs(data_A_cor[i][1])),p0=[-1,1,-1])\n",
    "    d0 = -popt[0]/(q_A[i]**2)   \n",
    "    D0_A.append(d0)\n",
    "    ah = k_b*T/(6*np.pi*η*d0)\n",
    "    ah_A.append(ah)\n",
    "    \n",
    "ah_A_mean = sum(ah_A)/len(angles_A)\n",
    "D0_A_mean = sum(D0_A)/len(angles_A)\n",
    "print(\"sample A\")\n",
    "print(\"hydrodynamic Radius: \",ah_A_mean)\n",
    "print(\"diffusion coefficient: \",D0_A_mean)\n",
    "    \n",
    "    \n",
    "########## sample B ########## \n",
    "ah_B = []\n",
    "D0_B = []\n",
    "D0_B_mean = 0\n",
    "ah_B_mean = 0\n",
    "\n",
    "#cut of the noises at the end\n",
    "for j in range(len(angles_B)):\n",
    "    i=0\n",
    "    for x in data_B_cor[j][1]:\n",
    "        if(x<0.01):\n",
    "            break\n",
    "        i+=1\n",
    "    data_B_cor[j][1] = data_B_cor[j][1][:i]\n",
    "    data_B_cor[j][0] = data_B_cor[j][0][:i]  \n",
    "\n",
    "for i in range(len(angles_B)):\n",
    "    popt, pcov = curve_fit(ln_g_2,(data_B_cor[i][0]),np.log(np.abs(data_B_cor[i][1])),p0=[-1,1,-1])\n",
    "    d0 = -popt[0]/(q_B[i]**2)    \n",
    "    D0_B.append(d0)\n",
    "    ah = k_b*T/(6*np.pi*η*d0)\n",
    "    ah_B.append(ah)\n",
    "    \n",
    "ah_B_mean = sum(ah_B)/len(angles_B)\n",
    "D0_B_mean = sum(D0_B)/len(angles_B)\n",
    "print(\"sample B\")\n",
    "print(\"hydrodynamic Radius: \",ah_B_mean)\n",
    "print(\"diffusion coefficient: \",D0_B_mean)\n",
    "\n",
    "    \n",
    "    \n",
    "########## sample C ########## \n",
    "D0_C_mean = 0\n",
    "ah_C_mean = 0\n",
    "\n",
    "for x in data_B_cor[0][1]:\n",
    "    if(x<0.01):\n",
    "        break\n",
    "    i+=1\n",
    "data_C_cor[0][1] = data_C_cor[0][1][:i]\n",
    "data_C_cor[0][0] = data_C_cor[0][0][:i]  \n",
    "\n",
    "popt, pcov = curve_fit(ln_g_2,(data_B_cor[0][0]),np.log(np.abs(data_B_cor[0][1])),p0=[-1,1,-1])\n",
    "d0 = -popt[0]/(q_C**2)    \n",
    "D0_C_mean = d0\n",
    "ah = k_b*T/(6*np.pi*η*d0)\n",
    "ah_C_mean = ah\n",
    "print(\"sample C\")\n",
    "print(\"hydrodynamic Radius: \",ah_C_mean)\n",
    "print(\"diffusion coefficient: \",D0_C_mean)\n",
    "\n",
    "\n",
    "\n",
    "\n",
    "\n",
    "\n",
    "\n",
    "    \n",
    "#t = np.linspace((min(data_A_cor[i][0])),(max(data_A_cor[i][0])),100)\n",
    "#fig,ax = plt.subplots(figsize=(10,8))\n",
    "#ax.scatter(np.log10(data_A_cor[i][0]),np.log10(np.abs(data_A_cor[i][1])),c=\"r\")\n",
    "#ax.plot(np.log10(t),np.log10(g_2(t,*popt)),c=\"b\")"
   ]
  },
  {
   "cell_type": "markdown",
   "metadata": {},
   "source": [
    "Die Daten sehen ja ganz schön aus, der fit passt allerdings nicht :/"
   ]
  },
  {
   "cell_type": "code",
   "execution_count": 136,
   "metadata": {
    "collapsed": false
   },
   "outputs": [
    {
     "data": {
      "text/plain": [
       "-3.6989700043360187"
      ]
     },
     "execution_count": 136,
     "metadata": {},
     "output_type": "execute_result"
    }
   ],
   "source": [
    "np.log10(min(data_A_cor[i][0]))#,np.log(max(data_A_cor[i][0])"
   ]
  },
  {
   "cell_type": "code",
   "execution_count": null,
   "metadata": {
    "collapsed": true
   },
   "outputs": [],
   "source": []
  }
 ],
 "metadata": {
  "kernelspec": {
   "display_name": "Python 3",
   "language": "python",
   "name": "python3"
  },
  "language_info": {
   "codemirror_mode": {
    "name": "ipython",
    "version": 3
   },
   "file_extension": ".py",
   "mimetype": "text/x-python",
   "name": "python",
   "nbconvert_exporter": "python",
   "pygments_lexer": "ipython3",
   "version": "3.6.0"
  }
 },
 "nbformat": 4,
 "nbformat_minor": 2
}
