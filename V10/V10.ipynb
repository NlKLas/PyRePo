{
 "cells": [
  {
   "cell_type": "code",
   "execution_count": 329,
   "metadata": {
    "collapsed": true
   },
   "outputs": [],
   "source": [
    "# import\n",
    "%matplotlib inline\n",
    "import matplotlib.pyplot as plt\n",
    "import numpy as np\n",
    "from scipy.optimize import curve_fit"
   ]
  },
  {
   "cell_type": "code",
   "execution_count": 330,
   "metadata": {
    "collapsed": false
   },
   "outputs": [],
   "source": [
    "# constants\n",
    "c = 3 * 10 **8\n",
    "e = 1.6 * 10 **-19\n",
    "ϵ0 = 8.854 * 10 **-12\n",
    "me = 0.511 / c**2\n",
    "mp = 938 / c**2\n",
    "N_A = 6.022 * 10 **23\n",
    "m_α = 3727.379 / c**2\n",
    "W_air = 85.7 * 10 **-6\n",
    "W_He = 41.8 * 10 **-6\n",
    "W_Ar = 187 * 10 **-6\n",
    "Z_α = 2\n",
    "Ekin_α = 5.486\n",
    "k_b = 1.38 * 10 **-23\n",
    "k_air = 14.4\n",
    "k_He = 2\n",
    "k_Ar = 18\n",
    "# MeV/J\n",
    "MeV_J = 1/e * 10**-6"
   ]
  },
  {
   "cell_type": "code",
   "execution_count": 357,
   "metadata": {
    "collapsed": false
   },
   "outputs": [],
   "source": [
    "#measured data\n",
    "ρ = 0.053\n",
    "ρ_err = 0.001\n",
    "\n",
    "background_n = 854\n",
    "background_n_err = np.sqrt(background_n )\n",
    "background_t = 3323\n",
    "background_t_err = 1\n",
    "background = background_n/background_t\n",
    "background_err = np.sqrt((background_n_err/background_t)**2+(background_t_err*background_n/background_t**2)**2)\n",
    "\n",
    "data_n = [434,612,1069,1104,1176,1298,1561,1672,1678,1716,1801,1656,1950,1661,1698,1772,1620,1415,1220,1156,1105,1052,1032,981,910,919,881,852,910,905,904,877,846,809,728,528,402,101,104]\n",
    "data_n_err = [np.sqrt(n)for n in data_n]\n",
    "data_t = [992.4,613.4,654.3,520.0,466.8,459.2,488.1,495.6,490.1,461.5,479.9,437.1,493.9,452.9,460.8,488.6,477.8,444.1,411.2,408.8,446.9,469.8,512.0,519.1,498.0,503.8,507.8,495.9,504.0,495.6,498.8,503.6,492.9,502.9,511.5,528.11,713.5,370.5,406]\n",
    "data_t_err = 0.1\n",
    "data_I = [1407,1307,1237,1189,1138,1088,1038,998,969,939,909,878,848,818,788,748,709,669,629,589,549,509,478,459,439,418,398,378,358,338,318,298,278,258,238,208,158,108,58]\n",
    "data_I_err = [I*0.01+1 for I in data_I ]\n",
    "\n",
    "\n",
    "countrate = []\n",
    "countrate_err = []\n",
    "for i in range(len(data_n)):\n",
    "    countrate.append(data_n[i]/data_t[i]-background)\n",
    "    countrate_err.append(np.sqrt((data_n_err[i]/data_t[i])**2+(data_t_err*data_n[i]/data_t[i]**2)**2+(background_err)**2))\n",
    "    \n",
    "\n",
    "#calibration data\n",
    "input = 'Data/magnetic_calibration.txt'\n",
    "i = 0\n",
    "cal_I = []\n",
    "cal_B = []\n",
    "for line in open(input):\n",
    "    \n",
    "    if(i > 1):\n",
    "        d = line.split(\"\\t\")\n",
    "        cal_I.append(float(d[0]))\n",
    "        cal_B.append(float(d[1]))\n",
    "    i = i + 1\n",
    "    \n",
    "#coulomb correction\n",
    "G_p = []\n",
    "G_E = []\n",
    "G_38 = []\n",
    "G_39 = []\n",
    "G_40 = []\n",
    "i=0\n",
    "input = 'Data/correction.txt'\n",
    "for line in open(input):\n",
    "    \n",
    "    if(i > 1):\n",
    "        line = line.replace(\",\",\".\")\n",
    "        d = line.split(\"\\t\")\n",
    "        G_p.append(float(d[0]))\n",
    "        G_E.append(float(d[1]))\n",
    "        G_38.append(float(d[2]))\n",
    "        G_39.append(float(d[3]))\n",
    "        G_40.append(float(d[4]))\n",
    "    i = i + 1\n",
    "\n",
    "    \n",
    "#countrate\n",
    "#countrate_err"
   ]
  },
  {
   "cell_type": "code",
   "execution_count": 358,
   "metadata": {
    "collapsed": false
   },
   "outputs": [],
   "source": [
    "#theoretical functions\n",
    "def g(x,m,b):\n",
    "    return m*x+b\n",
    "\n",
    "def E_kin(p):\n",
    "    return np.sqrt(p**2+me**2)-me\n",
    "\n",
    "\n",
    "def G(E,E_array,G_array):\n",
    "    i=0\n",
    "    \n",
    "    for x in E_array:\n",
    "        if E<x:\n",
    "            break\n",
    "        i+=1 \n",
    "        if(i>len(G_array)-3):\n",
    "            break\n",
    "    result = G_array[i]+(G_array[i+1]-G_array[i])/(E_array[i+1]-E_array[i])*E\n",
    "    return result \n",
    "\n",
    "\n",
    "def curie(N,p):\n",
    "    En = E_kin(p)\n",
    "    print(len(E))\n",
    "    Cor = [G(pi,G_E,G_38) for pi in p]\n",
    "    print(len(Cor))\n",
    "    print(len(p))\n",
    "    print(len(N))\n",
    "    return abs(np.sqrt(N/(p**2*En*Cor)))"
   ]
  },
  {
   "cell_type": "code",
   "execution_count": 360,
   "metadata": {
    "collapsed": false
   },
   "outputs": [
    {
     "data": {
      "text/plain": [
       "<matplotlib.text.Text at 0x7f1ae0a96048>"
      ]
     },
     "execution_count": 360,
     "metadata": {},
     "output_type": "execute_result"
    },
    {
     "data": {
      "image/png": "[encoded data removed]",
      "text/plain": [
       "<matplotlib.figure.Figure at 0x7f1ae107b0f0>"
      ]
     },
     "metadata": {},
     "output_type": "display_data"
    }
   ],
   "source": [
    "#plot of the counting rate\n",
    "fig,ax = plt.subplots(figsize=(10,6))\n",
    "ax.scatter(data_I,countrate)\n",
    "ax.errorbar(data_I,countrate,yerr=countrate_err,xerr=data_I_err,ls=\"\")\n",
    "ax.set_xlim([0,1450])\n",
    "ax.set_ylabel(\"Counts per second\")\n",
    "ax.set_xlabel(\"I in mA\")"
   ]
  },
  {
   "cell_type": "code",
   "execution_count": 361,
   "metadata": {
    "collapsed": false
   },
   "outputs": [
    {
     "data": {
      "image/png": "[encoded data removed]",
      "text/plain": [
       "<matplotlib.figure.Figure at 0x7f1ae09b1048>"
      ]
     },
     "metadata": {},
     "output_type": "display_data"
    }
   ],
   "source": [
    "#calibration of the magnetic field\n",
    "popt,pcov = curve_fit(g,cal_I,cal_B)\n",
    "\n",
    "t=np.linspace(0,1400,100)\n",
    "fig,ax = plt.subplots(figsize=(10,6))\n",
    "ax.scatter(cal_I,cal_B)\n",
    "ax.plot(t,g(t,*popt))\n",
    "ax.set_xlabel(\"I in mA\")\n",
    "ax.set_ylabel(\"B in Gauss\")\n",
    "\n",
    "B = g(np.array(data_I),*popt)*10**-4\n",
    "B_err = [0.003*b for b in B]"
   ]
  },
  {
   "cell_type": "code",
   "execution_count": 362,
   "metadata": {
    "collapsed": false
   },
   "outputs": [
    {
     "data": {
      "text/plain": [
       "<matplotlib.collections.PathCollection at 0x7f1ae0a74cf8>"
      ]
     },
     "execution_count": 362,
     "metadata": {},
     "output_type": "execute_result"
    },
    {
     "data": {
      "image/png": "[encoded data removed]",
      "text/plain": [
       "<matplotlib.figure.Figure at 0x7f1ae0a74e48>"
      ]
     },
     "metadata": {},
     "output_type": "display_data"
    }
   ],
   "source": [
    "# G interpolation\n",
    "\n",
    "t = np.linspace(0,2.5)\n",
    "fig,ax = plt.subplots(figsize=(10,6))\n",
    "ax.scatter(G_E,G_38)\n",
    "#ax.plot(t,G(t,*popt))"
   ]
  },
  {
   "cell_type": "code",
   "execution_count": 363,
   "metadata": {
    "collapsed": false
   },
   "outputs": [],
   "source": [
    "p = B*ρ*e*(c/e*10**-6)\n",
    "E = E_kin(p)\n"
   ]
  },
  {
   "cell_type": "code",
   "execution_count": 364,
   "metadata": {
    "collapsed": false
   },
   "outputs": [
    {
     "data": {
      "text/plain": [
       "(0, 3)"
      ]
     },
     "execution_count": 364,
     "metadata": {},
     "output_type": "execute_result"
    },
    {
     "data": {
      "image/png": "[encoded data removed]",
      "text/plain": [
       "<matplotlib.figure.Figure at 0x7f1ae0887710>"
      ]
     },
     "metadata": {},
     "output_type": "display_data"
    }
   ],
   "source": [
    "fig,ax = plt.subplots(figsize=(10,6))\n",
    "ax.scatter(p,countrate/p)\n",
    "ax.set_xlim(0,3)"
   ]
  },
  {
   "cell_type": "code",
   "execution_count": 365,
   "metadata": {
    "collapsed": false
   },
   "outputs": [
    {
     "name": "stdout",
     "output_type": "stream",
     "text": [
      "39\n",
      "39\n",
      "39\n",
      "39\n"
     ]
    },
    {
     "name": "stderr",
     "output_type": "stream",
     "text": [
      "/home/julian/anaconda3/lib/python3.6/site-packages/ipykernel/__main__.py:29: RuntimeWarning: invalid value encountered in sqrt\n"
     ]
    },
    {
     "data": {
      "text/plain": [
       "<matplotlib.collections.PathCollection at 0x7f1ae077c240>"
      ]
     },
     "execution_count": 365,
     "metadata": {},
     "output_type": "execute_result"
    },
    {
     "data": {
      "image/png": "[encoded data removed]",
      "text/plain": [
       "<matplotlib.figure.Figure at 0x7f1ae0816940>"
      ]
     },
     "metadata": {},
     "output_type": "display_data"
    }
   ],
   "source": [
    "#Curie Plot\n",
    "fig,ax = plt.subplots(figsize=(10,6))\n",
    "ax.scatter(E,curie(countrate,p))\n"
   ]
  },
  {
   "cell_type": "code",
   "execution_count": null,
   "metadata": {
    "collapsed": true
   },
   "outputs": [],
   "source": []
  },
  {
   "cell_type": "code",
   "execution_count": null,
   "metadata": {
    "collapsed": true
   },
   "outputs": [],
   "source": []
  }
 ],
 "metadata": {
  "kernelspec": {
   "display_name": "Python 3",
   "language": "python",
   "name": "python3"
  },
  "language_info": {
   "codemirror_mode": {
    "name": "ipython",
    "version": 3
   },
   "file_extension": ".py",
   "mimetype": "text/x-python",
   "name": "python",
   "nbconvert_exporter": "python",
   "pygments_lexer": "ipython3",
   "version": "3.6.0"
  }
 },
 "nbformat": 4,
 "nbformat_minor": 2
}
